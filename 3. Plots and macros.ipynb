{
 "cells": [
  {
   "cell_type": "markdown",
   "metadata": {},
   "source": [
    "# 3. Plots\n",
    "\n",
    "## 3.1 Set up\n",
    "Everything that we have done is really nice, but without having a way to visualize the results it may feel odd. It's time to learn about plots.\n",
    "\n",
    "The default plotting package in Julia is called `Plots.jl` and wraps several plotting environments. If you are not running Binder, uncomment the following lines"
   ]
  },
  {
   "cell_type": "code",
   "execution_count": null,
   "metadata": {},
   "outputs": [],
   "source": [
    "# using Pkg\n",
    "# Pkg.add(\"Plots\")"
   ]
  },
  {
   "cell_type": "markdown",
   "metadata": {},
   "source": [
    "For importing it you can run the following cell (**DISCLAIMER**: it may be very slow, but don't despair)"
   ]
  },
  {
   "cell_type": "code",
   "execution_count": null,
   "metadata": {},
   "outputs": [],
   "source": [
    "using Plots \n",
    "gr()"
   ]
  },
  {
   "cell_type": "code",
   "execution_count": null,
   "metadata": {},
   "outputs": [],
   "source": [
    "f(x) = x^2\n",
    "Df(x) = 2*x\n",
    "\n",
    "# Lets plot the potential \n",
    "X = -1:0.01:1\n",
    "plot(X, f.(X))"
   ]
  },
  {
   "cell_type": "markdown",
   "metadata": {},
   "source": [
    "## 3.2 1D plots\n",
    "\n",
    "Ok, it is nice and running. Now we would like to use the code that we developed in notebook 1. One possibility is of course copying it to this notebook, but if we want to use the code in different places this will quickly become cumbersome. \n",
    "\n",
    "A clever option is to put the code into a file and then *include* it. This is completely equivalent to running the code in the notebook, so we don't lose anything.\n",
    "\n",
    "The final version of our `gradient_descent` is saved into the file `GradientDescent.jl`; you may check it. Let us include it and test it:"
   ]
  },
  {
   "cell_type": "code",
   "execution_count": null,
   "metadata": {},
   "outputs": [],
   "source": [
    "include(\"GradientDescent.jl\")\n",
    "\n",
    "xn, fn = gradient_descent(f, Df, 1., α = 0.1, verbose = true);"
   ]
  },
  {
   "cell_type": "markdown",
   "metadata": {},
   "source": [
    "Great! Let's plot $f_n$ with respect to the number of iterations"
   ]
  },
  {
   "cell_type": "code",
   "execution_count": null,
   "metadata": {},
   "outputs": [],
   "source": [
    "plot1 = plot(1:length(fn), fn,linewidth=2)\n",
    "xlabel!(\"N_iter\")\n",
    "ylabel!(\"f(x)\")\n",
    "length(fn)"
   ]
  },
  {
   "cell_type": "markdown",
   "metadata": {},
   "source": [
    "Impresive! Note that we use `xlabel!` because, in some way, we are *modifying* an existing object: the plot! \n",
    "\n",
    "Great, but since the curve is so steep we would also like to have some log plot. "
   ]
  },
  {
   "cell_type": "code",
   "execution_count": null,
   "metadata": {},
   "outputs": [],
   "source": [
    "plot2 = plot(1:length(fn), fn, yscale = :log10, linewidth = 2)\n",
    "xlabel!(\"N_iter\")\n",
    "ylabel!(\"log f(x)\")\n",
    "plot(plot1, plot2, size = (800,300))"
   ]
  },
  {
   "cell_type": "markdown",
   "metadata": {},
   "source": [
    "So the convergence of the gradient descent is (at least for this example) exponential! Good. We can also visualize it on top of $f(x)$:"
   ]
  },
  {
   "cell_type": "code",
   "execution_count": null,
   "metadata": {
    "scrolled": false
   },
   "outputs": [],
   "source": [
    "plot(X, f.(X),label=\"f\")\n",
    "plot!(xn, fn,marker=:star,label=\"fn\",legend=:top)"
   ]
  },
  {
   "cell_type": "markdown",
   "metadata": {},
   "source": [
    "You may have noticed those strange names with two dots in front, like `:log10` or `:star`. They are *symbols*, and are simply some internal representation of strings. They have more history behind them, but for the moment it may be easier to think of them as some convenient way to representing commonly used strings."
   ]
  },
  {
   "cell_type": "markdown",
   "metadata": {},
   "source": [
    "## 3.3 Contour plots\n",
    "\n",
    "Since we already have a gradient descent that runs for multidimensional input let's do some contourplots:"
   ]
  },
  {
   "cell_type": "code",
   "execution_count": null,
   "metadata": {},
   "outputs": [],
   "source": [
    "g(x) = x[1]^2 + 2*x[2]^2\n",
    "Dg(x) = [2*x[1], 4*x[2]]\n",
    "\n",
    "x0 = [0.9, 0.9]\n",
    "xn, fn = gradient_descent(g, Dg, x0, α = 0.1, maxiter = 20, verbose = true); \n",
    "# We can add a semicolon at the end of a statement to mute the output"
   ]
  },
  {
   "cell_type": "code",
   "execution_count": null,
   "metadata": {},
   "outputs": [],
   "source": [
    "G = [g([x, y]) for y in X, x in X]\n",
    "\n",
    "contourf(X, X, G)\n",
    "plot!(xn[:,1],xn[:,2],linewidth=2,marker = :star,markerstrokecolor=:lightblue,color=:lightblue,markersize=5,\n",
    "        aspect_ratio=:equal,legend=:bottomleft,label=\"xn\")\n",
    "xlims!(-1,1)\n",
    "ylims!(-1,1)"
   ]
  },
  {
   "cell_type": "markdown",
   "metadata": {},
   "source": [
    "# 3.4 Gifs and animation\n",
    "\n",
    "With `Plots.jl`, gifs are trivial to do. Check the following example, in which we animate the still contourplot above:"
   ]
  },
  {
   "cell_type": "code",
   "execution_count": null,
   "metadata": {},
   "outputs": [],
   "source": [
    "@gif for i in 1:length(fn)\n",
    "    contourf(X, X, G, dpi = 120)  # We changed the color palette for aesthetic reasons\n",
    "    \n",
    "    plot!(xn[1:i,1],xn[1:i,2],linewidth=2,marker = :star,markerstrokecolor=:lightblue,color=:lightblue,markersize=5,\n",
    "        aspect_ratio=:equal,legend=:bottomleft,label=\"xn\")\n",
    "    xlabel!(\"x\")\n",
    "    ylabel!(\"y\")\n",
    "    xlims!(-1,1)\n",
    "    ylims!(-1,1)\n",
    "    title!(\"Gradient descent, It = $(i-1)\")\n",
    "end\n",
    "# If you are really interested into doing animations you should check the more powerful macro @animate\n",
    "# You can find some examples here: https://docs.juliaplots.org/latest/animations/"
   ]
  },
  {
   "cell_type": "markdown",
   "metadata": {},
   "source": [
    "As you see, we have placed a `@gif`, and this *macro* takes care of all the work. Macros take the code that you write and wrap it in some code of their own, to offer some result in a very simple fashion. An even more important macro is `@time`, which is used to measure the time elapsed in running some code:"
   ]
  },
  {
   "cell_type": "code",
   "execution_count": null,
   "metadata": {},
   "outputs": [],
   "source": [
    "@time gradient_descent(f, Df, 1., α = 0.1, verbose = false);"
   ]
  },
  {
   "cell_type": "markdown",
   "metadata": {},
   "source": [
    "# 3.5 3d and interactive plots\n",
    "\n",
    "Though `gr` is a neat plots backend, it might come a bit basic for some needs. Another very powerful plot backend is `plotly`, which brings more interactivity:"
   ]
  },
  {
   "cell_type": "code",
   "execution_count": null,
   "metadata": {},
   "outputs": [],
   "source": [
    "plotly() # you may have to do Pkg.add(\"Plotly\")\n",
    "\n",
    "G = [g([x, y]) for y in X, x in X]\n",
    "surface(X, X, G, alpha = 0.8,size = (500,600))\n",
    "xlabel!(\"x\")\n",
    "ylabel!(\"y\")\n",
    "\n",
    "plot!(xn[:,1],xn[:,2],fn,color=:lightblue,markersize = 1,marker = :circle,\n",
    "      markerstrokecolor=:lightblue,linewidth = 3,label=\"xn\",legend=:topleft)\n",
    "      "
   ]
  },
  {
   "cell_type": "markdown",
   "metadata": {},
   "source": [
    "# Bonus 1: finetuning animations\n",
    "\n",
    "For saving the animation that appeared at the beginning of the course I used the macro `@animate`. This is the whole code:"
   ]
  },
  {
   "cell_type": "code",
   "execution_count": null,
   "metadata": {},
   "outputs": [],
   "source": [
    "gr()\n",
    "anim = @animate for i in 1:length(fn)\n",
    "    contourf(X, X, G,dpi = 120,aspect_ratio = :equal)\n",
    "    \n",
    "    plot!(xn[1:i,1],xn[1:i,2],linewidth=2,marker = :star,markerstrokecolor=:lightblue,color=:lightblue,markersize=5,\n",
    "        aspect_ratio=:equal,legend=:bottomleft,label=\"xn\")\n",
    "    xlabel!(\"x\")\n",
    "    ylabel!(\"y\")\n",
    "    xlims!(-1,1)\n",
    "    ylims!(-1,1)\n",
    "    title!(\"Contourplot and gradient descent, It = $(i-1)\")\n",
    "end"
   ]
  },
  {
   "cell_type": "code",
   "execution_count": null,
   "metadata": {},
   "outputs": [],
   "source": [
    "gif(anim, \"gradient_descent.gif\",fps = 2)"
   ]
  },
  {
   "cell_type": "markdown",
   "metadata": {},
   "source": [
    "# Bonus 2: Advanced performance measuring\n",
    "\n",
    "An even more powerful macro for measuring performance is `@benchmark`, provided in the package `BenchmarkTools`. Using it you can get more robust measures about the time and memory consumption of a program, as well as detailed statistics. "
   ]
  },
  {
   "cell_type": "code",
   "execution_count": null,
   "metadata": {},
   "outputs": [],
   "source": [
    "#Pkg.add(\"BenchmarkTools\") # install it if you don't have it already\n",
    "using BenchmarkTools: @benchmark\n",
    "\n",
    "@benchmark gradient_descent($f, $Df, 1.) "
   ]
  },
  {
   "cell_type": "code",
   "execution_count": null,
   "metadata": {},
   "outputs": [],
   "source": []
  }
 ],
 "metadata": {
  "kernelspec": {
   "display_name": "Julia 1.3.1",
   "language": "julia",
   "name": "julia-1.3"
  },
  "language_info": {
   "file_extension": ".jl",
   "mimetype": "application/julia",
   "name": "julia",
   "version": "1.3.1"
  }
 },
 "nbformat": 4,
 "nbformat_minor": 2
}
