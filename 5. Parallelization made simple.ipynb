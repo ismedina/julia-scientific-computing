{
 "cells": [
  {
   "cell_type": "markdown",
   "metadata": {},
   "source": [
    "<div class=\"alert alert-info\">\n",
    "    <h1> About these notebooks </h1>\n",
    "    <p> If you opened this notebook in Binder, it is running on a server that was launched <b>just</b> for you. Your changes will be reset once server restarts due to inactivity, so don't rely on it for anything you want to last. Likewise, feel free to try and tweak everything you want, since you won't affect the original repository. And <b>if you have never used a Jupyter noteboook: </b> for running a cell just press <tt>Shift + Enter.</tt> </p>\n",
    "    <p>Enjoy!</p>\n",
    "</div>\n",
    "\n",
    "<div class=\"alert alert-danger\">\n",
    "    <h1> About the parallelization results</h1>\n",
    "    <p> This notebook is designed to explore parallelization, so it may make little sense to run in on just one CPU. </p>\n",
    "    <ul><li><b>If you are running it on Binder</b>, four threads are already enabled and you don't need to take any further action. </li>\n",
    "        <li><b>If you are running it on your own computer</b>, you may have to enable them manually, since by default Julia starts using only 1 CPU. <a href=\"https://docs.julialang.org/en/v1/manual/parallel-computing/#man-multithreading-1\">Here you can find instructions for your machine</a>.  You may have to restart the Notebook for the effects to take place.</li></ul>\n",
    "</div>"
   ]
  },
  {
   "cell_type": "markdown",
   "metadata": {},
   "source": [
    "# 5.1 Julia and parallel computing\n",
    "\n",
    "One of the aspects of Julia that makes it specially suitable for scientific computing is that support for parallelism is integrated in the very core of the language. Besides, different approches to parallelism are possible: from very basic instructions such as which data send to which processor, to nonchalant macros that send everything to all the threads and let them work their way. In this notebook we will explore briefly the second scenario, which is specially useful in the case that we have a lot of (almost) independent processes that can run without conflicting each other.\n",
    "\n",
    "But before, run the following cell to check the number of threads the Notebook can use. If it is only one, check the instructions in the red box above. "
   ]
  },
  {
   "cell_type": "code",
   "execution_count": null,
   "metadata": {},
   "outputs": [],
   "source": [
    "Threads.nthreads()"
   ]
  },
  {
   "cell_type": "markdown",
   "metadata": {},
   "source": [
    "# 5.2 The `@threads` macro\n",
    "\n",
    "We will start by using `Threads.@threads`. Place this macro before a `for` loop and it will send the instructions of each iteration to one of the processors. Cool, right? This is very well suited for the so called *embarrassingly parallel* tasks; i.e., when little or no manipulation is needed to separate the problem into a number of parallel tasks. Check the following code, taken from Julia's official documentation, that in each iteration writes the ID of the thread working on `a[j]` to `a[j]` itself:"
   ]
  },
  {
   "cell_type": "code",
   "execution_count": null,
   "metadata": {},
   "outputs": [],
   "source": [
    "using Base.Threads\n",
    "\n",
    "a = zeros(1,10)\n",
    "@threads for j = 1:10\n",
    "           a[1,j] = Threads.threadid()\n",
    "       end\n",
    "\n",
    "a"
   ]
  },
  {
   "cell_type": "markdown",
   "metadata": {},
   "source": [
    "Nested loops also work seamlessly:"
   ]
  },
  {
   "cell_type": "code",
   "execution_count": null,
   "metadata": {},
   "outputs": [],
   "source": [
    "using Base.Threads\n",
    "\n",
    "a = zeros(3,10)\n",
    "@threads for j = 1:10\n",
    "    for i =1:3\n",
    "       a[i,j] = Threads.threadid()\n",
    "   end\n",
    "end\n",
    "\n",
    "a"
   ]
  },
  {
   "cell_type": "markdown",
   "metadata": {},
   "source": [
    "Neat! Do you feel like implementing this into the Game of Life iteration?\n",
    "\n",
    "#### Exercise 6:\n",
    "\n",
    "Make a multithreaded version of the function below, which implements a single iteration in the game of life for the case of zero boundary conditions.\n",
    "\n",
    "**Hint**: To see if your implementation is right you can run the test in the next cell. "
   ]
  },
  {
   "cell_type": "code",
   "execution_count": null,
   "metadata": {},
   "outputs": [],
   "source": [
    "\"\"\" Game of Life iteration for the zero boundary condition case\"\"\"\n",
    "function game_it(A)\n",
    "    M, N = size(A)\n",
    "    B = zeros(Int64, M, N)\n",
    "    for j in 2:N-1\n",
    "        for i in 2:M-1\n",
    "            sum_neigh = A[i-1,j-1] + A[i-1,j] + A[i-1,j+1] + A[i,j-1] + A[i,j+1] + A[i+1,j-1] + A[i+1,j] + A[i+1,j+1]\n",
    "            if sum_neigh == 3 || (sum_neigh == 2 && A[i,j] == 1)\n",
    "                B[i,j] = 1\n",
    "            end\n",
    "        end\n",
    "    end\n",
    "    return B\n",
    "end\n",
    "\n",
    "\"\"\" Game of Life iteration for the zero boundary condition case, with parallelization\"\"\"\n",
    "function game_it_parallel(A)\n",
    "    M, N = size(A)\n",
    "    B = zeros(Int64, M, N)\n",
    "    \n",
    "    # Your code goes here\n",
    "    \n",
    "    return B\n",
    "end"
   ]
  },
  {
   "cell_type": "markdown",
   "metadata": {},
   "source": [
    "Let's run some test to see if it works how it should"
   ]
  },
  {
   "cell_type": "code",
   "execution_count": null,
   "metadata": {},
   "outputs": [],
   "source": [
    "function test_implementation()\n",
    "    for i in 1:100\n",
    "        A = rand([0,1], 100,100)\n",
    "        @assert game_it(A) == game_it_parallel(A) # asserts checkes if the condition holds; if not it throws an error\n",
    "    end\n",
    "    println(\"Test passed\")\n",
    "end\n",
    "\n",
    "test_implementation()"
   ]
  },
  {
   "cell_type": "markdown",
   "metadata": {},
   "source": [
    "So the implementation is at least right. Is it also faster? Let's check:\n",
    "\n",
    "#### Exercise 7\n",
    "\n",
    "Run the benchmarks and the plot. What do you observe? Is it logical? Try to explain the results"
   ]
  },
  {
   "cell_type": "code",
   "execution_count": null,
   "metadata": {},
   "outputs": [],
   "source": [
    "using BenchmarkTools: @benchmark\n",
    "\n",
    "A = rand([0,1],1000,1000)\n",
    "bench1 = @benchmark game_it(A)"
   ]
  },
  {
   "cell_type": "code",
   "execution_count": null,
   "metadata": {},
   "outputs": [],
   "source": [
    "bench2 = @benchmark game_it_parallel(A)"
   ]
  },
  {
   "cell_type": "code",
   "execution_count": null,
   "metadata": {},
   "outputs": [],
   "source": [
    "t1 = bench1.times/1e6\n",
    "t2 = bench2.times/1e6\n",
    "\n",
    "bins = range(0,maximum([t1;t2]),length = 20)\n",
    "using Plots\n",
    "histogram(t1, label = \"serial\",   alpha = 0.8,bins = bins,normalize = true)\n",
    "histogram!(t2,label = \"parallel\", alpha = 0.8,bins = bins,normalize = true)\n",
    "\n",
    "xlabel!(\"time (ms)\")\n",
    "ylabel!(\"Proportion of trials\")"
   ]
  },
  {
   "cell_type": "markdown",
   "metadata": {},
   "source": [
    "# 5.3 The dangers of `@threads`\n",
    "\n",
    "This macro looks pretty useful: with virtually no effort we transformed our code from parallel to serial. Too good to be true! And indeed, in some sense, it is: `@threads` is only meant to be used for reasonably simple tasks. Check how `@threads` fails miserably in the following example:"
   ]
  },
  {
   "cell_type": "code",
   "execution_count": null,
   "metadata": {},
   "outputs": [],
   "source": [
    "function parallel_sum(A)\n",
    "    s = 0\n",
    "    @threads for i in 1:length(A)\n",
    "        s += A[i]\n",
    "    end\n",
    "    s\n",
    "end\n",
    "\n",
    "A = ones(10000)\n",
    "\n",
    "parallel_sum(A)"
   ]
  },
  {
   "cell_type": "markdown",
   "metadata": {},
   "source": [
    "This problem comes from updating the value `s` using an outdated value of it. Of course there are ways to handle this: in the [official documentation](https://docs.julialang.org/en/v1/manual/parallel-computing/#Atomic-Operations-1) you can find a lot of info if you are interested."
   ]
  },
  {
   "cell_type": "markdown",
   "metadata": {},
   "source": [
    "# 5.4 So, should I use `@threads`?\n",
    "\n",
    "Well, if your use case won't cause memory conflicts (for example in Monte Carlo simulation, when the runs are pretty much independent), you may well use it - and profit from it!\n",
    "\n",
    "There are of course more advanced parallelization options available in Julia, but I hope that these simple examples helped to demonstrate how simple yet powerful Julia can be. "
   ]
  },
  {
   "cell_type": "code",
   "execution_count": null,
   "metadata": {},
   "outputs": [],
   "source": []
  }
 ],
 "metadata": {
  "kernelspec": {
   "display_name": "Julia 1.3.1",
   "language": "julia",
   "name": "julia-1.3"
  },
  "language_info": {
   "file_extension": ".jl",
   "mimetype": "application/julia",
   "name": "julia",
   "version": "1.3.1"
  }
 },
 "nbformat": 4,
 "nbformat_minor": 2
}
