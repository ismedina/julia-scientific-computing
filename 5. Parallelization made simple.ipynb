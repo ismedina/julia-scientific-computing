{
 "cells": [
  {
   "cell_type": "markdown",
   "metadata": {},
   "source": [
    "<div class=\"alert alert-info\">\n",
    "    <h1> About these notebooks </h1>\n",
    "    <p> If you opened this notebook in Binder, it is running on a server that was launched <b>just</b> for you. Your changes will be reset once server restarts due to inactivity, so don't rely on it for anything you want to last. Likewise, feel free to try and tweak everything you want, since you won't affect the original repository. And <b>if you have never used a Jupyter noteboook: </b> for running a cell just press <tt>Shift + Enter.</tt> </p>\n",
    "    <p>Enjoy!</p>\n",
    "</div>"
   ]
  },
  {
   "cell_type": "code",
   "execution_count": 1,
   "metadata": {},
   "outputs": [
    {
     "data": {
      "text/plain": [
       "1"
      ]
     },
     "execution_count": 1,
     "metadata": {},
     "output_type": "execute_result"
    }
   ],
   "source": [
    "Threads.nthreads()"
   ]
  },
  {
   "cell_type": "code",
   "execution_count": 54,
   "metadata": {},
   "outputs": [
    {
     "data": {
      "text/plain": [
       "game_it_zero_bdry_parallel"
      ]
     },
     "execution_count": 54,
     "metadata": {},
     "output_type": "execute_result"
    }
   ],
   "source": [
    "include(\"GameOfLife.jl\")\n",
    "\n",
    "\"\"\" Game of Life iteration for the zero boundary condition case\"\"\"\n",
    "function game_it_zero_bdry_parallel(A)\n",
    "    M, N = size(A)\n",
    "    B = zeros(Int64, M, N)\n",
    "    Threads.@threads for j in 2:N-1\n",
    "        for i in 2:M-1\n",
    "            sum_neigh = A[i-1,j-1] + A[i-1,j] + A[i-1,j+1] + A[i,j-1] + A[i,j+1] + A[i+1,j-1] + A[i+1,j] + A[i+1,j+1]\n",
    "            if sum_neigh == 3 || (sum_neigh == 2 && A[i,j] == 1)\n",
    "                B[i,j] = 1\n",
    "            end\n",
    "        end\n",
    "    end\n",
    "    return B\n",
    "end\n"
   ]
  },
  {
   "cell_type": "code",
   "execution_count": 53,
   "metadata": {},
   "outputs": [
    {
     "data": {
      "text/plain": [
       "10×10 Array{Float64,2}:\n",
       " 1.0  1.0  1.0  2.0  2.0  2.0  3.0  3.0  4.0  4.0\n",
       " 1.0  1.0  1.0  2.0  2.0  2.0  3.0  3.0  4.0  4.0\n",
       " 1.0  1.0  1.0  2.0  2.0  2.0  3.0  3.0  4.0  4.0\n",
       " 1.0  1.0  1.0  2.0  2.0  2.0  3.0  3.0  4.0  4.0\n",
       " 1.0  1.0  1.0  2.0  2.0  2.0  3.0  3.0  4.0  4.0\n",
       " 1.0  1.0  1.0  2.0  2.0  2.0  3.0  3.0  4.0  4.0\n",
       " 1.0  1.0  1.0  2.0  2.0  2.0  3.0  3.0  4.0  4.0\n",
       " 1.0  1.0  1.0  2.0  2.0  2.0  3.0  3.0  4.0  4.0\n",
       " 1.0  1.0  1.0  2.0  2.0  2.0  3.0  3.0  4.0  4.0\n",
       " 1.0  1.0  1.0  2.0  2.0  2.0  3.0  3.0  4.0  4.0"
      ]
     },
     "execution_count": 53,
     "metadata": {},
     "output_type": "execute_result"
    }
   ],
   "source": [
    "a = zeros(10,10)\n",
    "\n",
    "Threads.@threads for i = 1:10\n",
    "    for j in 1:10\n",
    "           a[j,i] = Threads.threadid()\n",
    "       end\n",
    "end\n",
    "a"
   ]
  },
  {
   "cell_type": "code",
   "execution_count": 68,
   "metadata": {},
   "outputs": [
    {
     "name": "stdout",
     "output_type": "stream",
     "text": [
      "pass\n"
     ]
    }
   ],
   "source": [
    "function check_implementation()\n",
    "    for i in 1:100\n",
    "        A = rand([0,1], 100,100)\n",
    "        @assert game_it_zero_bdry(A) == game_it_zero_bdry_parallel(A)\n",
    "    end\n",
    "    println(\"pass\")\n",
    "end\n",
    "\n",
    "check_implementation()"
   ]
  },
  {
   "cell_type": "code",
   "execution_count": 66,
   "metadata": {},
   "outputs": [
    {
     "data": {
      "text/plain": [
       "BenchmarkTools.Trial: \n",
       "  memory estimate:  78.20 KiB\n",
       "  allocs estimate:  2\n",
       "  --------------\n",
       "  minimum time:     51.850 μs (0.00% GC)\n",
       "  median time:      56.180 μs (0.00% GC)\n",
       "  mean time:        59.376 μs (3.31% GC)\n",
       "  maximum time:     1.320 ms (94.50% GC)\n",
       "  --------------\n",
       "  samples:          10000\n",
       "  evals/sample:     1"
      ]
     },
     "execution_count": 66,
     "metadata": {},
     "output_type": "execute_result"
    }
   ],
   "source": [
    "using BenchmarkTools: @benchmark\n",
    "\n",
    "A = rand([0,1],100,100)\n",
    "@benchmark game_it_zero_bdry(A)"
   ]
  },
  {
   "cell_type": "code",
   "execution_count": 67,
   "metadata": {},
   "outputs": [
    {
     "data": {
      "text/plain": [
       "BenchmarkTools.Trial: \n",
       "  memory estimate:  81.23 KiB\n",
       "  allocs estimate:  32\n",
       "  --------------\n",
       "  minimum time:     28.398 μs (0.00% GC)\n",
       "  median time:      36.075 μs (0.00% GC)\n",
       "  mean time:        39.486 μs (6.62% GC)\n",
       "  maximum time:     1.637 ms (94.41% GC)\n",
       "  --------------\n",
       "  samples:          10000\n",
       "  evals/sample:     1"
      ]
     },
     "execution_count": 67,
     "metadata": {},
     "output_type": "execute_result"
    }
   ],
   "source": [
    "@benchmark game_it_zero_bdry_parallel(A)"
   ]
  },
  {
   "cell_type": "code",
   "execution_count": 51,
   "metadata": {},
   "outputs": [
    {
     "data": {
      "text/plain": [
       "10×10 Array{Int64,2}:\n",
       " 0  0  0  0  0  0  1  0  0  1\n",
       " 1  1  0  1  0  0  1  1  1  0\n",
       " 1  0  0  1  0  1  0  0  0  0\n",
       " 1  0  0  0  1  0  1  1  0  0\n",
       " 1  0  0  1  1  1  1  1  0  0\n",
       " 0  0  1  0  1  1  0  0  1  1\n",
       " 0  0  1  1  0  0  1  1  0  0\n",
       " 1  1  0  1  1  1  1  0  1  0\n",
       " 1  0  1  0  1  1  1  1  0  1\n",
       " 0  0  0  0  0  0  0  0  0  0"
      ]
     },
     "execution_count": 51,
     "metadata": {},
     "output_type": "execute_result"
    }
   ],
   "source": [
    "my_game_it_parallel(A)"
   ]
  },
  {
   "cell_type": "code",
   "execution_count": 70,
   "metadata": {},
   "outputs": [
    {
     "data": {
      "text/plain": [
       "4"
      ]
     },
     "execution_count": 70,
     "metadata": {},
     "output_type": "execute_result"
    }
   ],
   "source": [
    "Threads.nthreads()"
   ]
  },
  {
   "cell_type": "code",
   "execution_count": null,
   "metadata": {},
   "outputs": [],
   "source": []
  }
 ],
 "metadata": {
  "kernelspec": {
   "display_name": "Julia 1.3.1",
   "language": "julia",
   "name": "julia-1.3"
  },
  "language_info": {
   "file_extension": ".jl",
   "mimetype": "application/julia",
   "name": "julia",
   "version": "1.3.1"
  }
 },
 "nbformat": 4,
 "nbformat_minor": 2
}
