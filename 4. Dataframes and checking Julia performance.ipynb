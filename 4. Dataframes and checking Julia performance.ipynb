{
 "cells": [
  {
   "cell_type": "markdown",
   "metadata": {},
   "source": [
    "<div class=\"alert alert-info\">\n",
    "    <h1> About these notebooks </h1>\n",
    "    <p> If you opened this notebook in Binder, it is running on a server that was launched <b>just</b> for you. Your changes will be reset once server restarts due to inactivity, so don't rely on it for anything you want to last. Likewise, feel free to try and tweak everything you want, since you won't affect the original repository. And <b>if you have never used a Jupyter noteboook: </b> for running a cell just press <tt>Shift + Enter.</tt> </p>\n",
    "    <p>Enjoy!</p>\n",
    "</div>"
   ]
  },
  {
   "cell_type": "markdown",
   "metadata": {},
   "source": [
    "# 4.1 Conway's *Game of Life*\n",
    "\n",
    "To get a taste about Julia's speed we are going to code Conway's *Game of Life*. But before explaining its basic rules, let's watch a cool gif of it:\n",
    "\n",
    "![game of life gif](figures/game_of_life.gif)\n",
    "\n",
    "So what's this \"Game of Life\"? Well, it is a *cellular automaton*: a 2D, infinite grid of cells ― each of which can be *alive* or *dead*―, together with rules for wether they stay in the same state or change it. In Life the next state of a cell only depends on the states of the 8 nearest neighbors, and according to [Wikipedia](https://en.wikipedia.org/wiki/Conway%27s_Game_of_Life) the rules for every iteration are:\n",
    "\n",
    "* Any live cell with fewer than two live neighbours dies, as if by underpopulation.\n",
    "* Any live cell with two or three live neighbours lives on to the next generation.\n",
    "* Any live cell with more than three live neighbours dies, as if by overpopulation.\n",
    "* Any dead cell with exactly three live neighbours becomes a live cell, as if by reproduction.\n",
    "\n",
    "We can summarize this with the following protocol. Assuming that the state of the cell $(i,j)$ is stored in `A[i,j]` (as `1` if the cell is alive and `0` if it is dead), then in each iteration:\n",
    "\n",
    "1. Initialize an array `B` with the same shape as `A` and all zeros.\n",
    "2. For each cell $(i,j)$, if either:\n",
    "    * the sum of live neighbors is 3 (regardless of the state of cell $(i,j)$), or \n",
    "    * the sum of live neighbors is 2 *and* cell $(i,j)$ is alive, \n",
    "    \n",
    "  then set `B[i,j] = 1`.\n",
    "\n",
    "#### Exercise 4\n",
    "\n",
    "Create a function `my_game_it(A)` that given the current state of the game `A` returns the status of the grid in the next iteration.\n",
    "\n",
    "**Hint 1:** Since in the original game the grid is infinite, to fit it into an array we should define some *boundary conditions*, i.e., the value of the cells at the edge of our array. Two widely used possibilities (among which you can choose your favorite) are:\n",
    "\n",
    "* *zero boundary conditions*, i.e., setting all boundary values to zero. This is a bit easier to code but leads to spurious results when the living cells reach the boundary.\n",
    "* *periodic boundary conditions*: i.e., *gluing* the edges. In this case we must take care of how we define the nearest neighbors at the edges. There you may want to use some `if` statements of the kind:\n",
    "\n",
    "```julia\n",
    "if j == 1 \n",
    "    j_left = N\n",
    "else\n",
    "    j_left = j-1\n",
    "end\n",
    "```\n",
    "Or more concisely, using the so called *ternary operator*:\n",
    "```julia\n",
    "j == 1 ? j_left = N : j_left = j-1\n",
    "```\n",
    "This is the Julia equivalent for the Python expression \n",
    "```python \n",
    "j = N if j==1 else j-1```\n",
    "\n",
    "**Hint 2:** Pay attention to the order of the loops! Since Julia is column-major, which loop should go inside to get the maximum speed?"
   ]
  },
  {
   "cell_type": "code",
   "execution_count": null,
   "metadata": {},
   "outputs": [],
   "source": [
    "function my_game_it(A)\n",
    "    M, N = size(A)\n",
    "    B = zeros(Int64, M, N)\n",
    "    \n",
    "    # Here goes your code\n",
    "    \n",
    "    return B\n",
    "end"
   ]
  },
  {
   "cell_type": "markdown",
   "metadata": {},
   "source": [
    "# 4.2 CSVs and DataFrames\n",
    "\n",
    "You can check your implementation by loading the examples in the `game_examples` folder:\n",
    "* All examples starting with `still` should not change at all.\n",
    "* All examples starting with `osc` should oscillate with period 2."
   ]
  },
  {
   "cell_type": "code",
   "execution_count": null,
   "metadata": {},
   "outputs": [],
   "source": [
    "using CSV, DataFrames, Plots\n",
    "include(\"GameOfLife.jl\")  # import some convenient functions and the reference implementation of the Game\n",
    "\n",
    "df = CSV.read(\"game_examples/osc_beacon.csv\")"
   ]
  },
  {
   "cell_type": "markdown",
   "metadata": {},
   "source": [
    "As you can see, `CSV` loads files into `DataFrames`. Cool! Accesing Julia's Dataframes is as simple as in Python, plus we have all of Julia's cool features:"
   ]
  },
  {
   "cell_type": "code",
   "execution_count": null,
   "metadata": {},
   "outputs": [],
   "source": [
    "df.x1"
   ]
  },
  {
   "cell_type": "code",
   "execution_count": null,
   "metadata": {},
   "outputs": [],
   "source": [
    "print.(df.x2); # we can also use broadcasting with DataFrame columns"
   ]
  },
  {
   "cell_type": "markdown",
   "metadata": {},
   "source": [
    "Anyway, let's come back to our Game of Life. For using `my_game_it` we just have to convert `df` to an array:"
   ]
  },
  {
   "cell_type": "code",
   "execution_count": null,
   "metadata": {},
   "outputs": [],
   "source": [
    "A = Array(df)\n",
    "B = my_game_it(A)\n",
    "C = my_game_it(B)\n",
    "\n",
    "# Plot them\n",
    "plot1 = plot_it(A); title!(\"It. 0\")\n",
    "plot2 = plot_it(B); title!(\"It. 1\")\n",
    "plot3 = plot_it(C); title!(\"It. 2\")\n",
    "plot(plot1, plot2, plot3,layout = (1,3),size = (900,300))"
   ]
  },
  {
   "cell_type": "markdown",
   "metadata": {},
   "source": [
    "**Check**: Load other examples and see if they work as they should. \n",
    "\n",
    "Finally, running the following cell should yield the gif of the beginning of the notebook"
   ]
  },
  {
   "cell_type": "code",
   "execution_count": null,
   "metadata": {},
   "outputs": [],
   "source": [
    "A = Array(CSV.read(\"game_examples/intro.csv\"))\n",
    "anim = @animate for i in 1:60\n",
    "    plot_it(A)\n",
    "    A .= my_game_it(A)\n",
    "end\n",
    "gif(anim,fps=5)"
   ]
  },
  {
   "cell_type": "markdown",
   "metadata": {},
   "source": [
    "Great! Now, the main motivation to learn Julia was... that it is fast! In the folder `benchmark/` you will find the `game_it` function coded in Python, Matlab and Julia, together with some benchmarking to compare the speeds when running it on a $N\\times N$ grid. If you are running the notebooks locally you may also run the benchmarks yourself! \n",
    "\n",
    "In any case, you may want to open the file `benchmark/life_julia.jl` and take note of the final lines, because there is an example of how we add columns to DataFrames. \n",
    "\n",
    "Well, let's take a look at the resulting Julia's benchmark results:"
   ]
  },
  {
   "cell_type": "code",
   "execution_count": null,
   "metadata": {},
   "outputs": [],
   "source": [
    "CSV.read(\"benchmark/results_julia.csv\")"
   ]
  },
  {
   "cell_type": "markdown",
   "metadata": {},
   "source": [
    "#### Exercise 5\n",
    "\n",
    "1. Join the results files in `benchmark/*.csv` into a single DataFrame and save the resulting table to `benchmark/benchmark.csv`. \n",
    "2. Read this new file and plot the results. Don't forget to use logscale if needed and add labels and a title!\n",
    "\n",
    "**Hint**: Be careful! Not always all the data comes in the same format."
   ]
  },
  {
   "cell_type": "code",
   "execution_count": null,
   "metadata": {},
   "outputs": [],
   "source": [
    "# Here goes your code for joining and saving\n"
   ]
  },
  {
   "cell_type": "code",
   "execution_count": null,
   "metadata": {},
   "outputs": [],
   "source": [
    "# Here goes your code for reading the CSV and plotting it\n"
   ]
  },
  {
   "cell_type": "markdown",
   "metadata": {},
   "source": [
    "# 4.3 Enhancing performance\n",
    "\n",
    "Ok, so in Julia this implementation runs waaay faster than in Python, and 3 times faster than Matlab. Not bad! Now, I am pretty sure that your implementation is good, but it's never a bad idea to take a look at Julia's [performance tips](https://docs.julialang.org/en/v1/manual/performance-tips/). Some of the more important are:\n",
    "\n",
    "* **Avoid global variables**: so far so good (I hope).\n",
    "* **Measure performance with `@time` and pay attention to memory allocation**: good, let's do it. For the version in `GameOfLife.jl` I obtain only 6 allocations. It doesn't have to be always like this: if you must create a lot of arrays these numbers might go high, but it is always a good thing to keep them low. (You may have to run the cell twice if it's your first time using `@time` in this notebook). "
   ]
  },
  {
   "cell_type": "code",
   "execution_count": null,
   "metadata": {},
   "outputs": [],
   "source": [
    "A = rand([0 1], 1024,1024)\n",
    "@time my_game_it(A);"
   ]
  },
  {
   "cell_type": "markdown",
   "metadata": {},
   "source": [
    "Other important tips are:\n",
    "\n",
    "* **Write type-stable code**. Julia performance comes from its compiler, and the compiler won't have an easy time if the type of the variables gets changed all the time. Think about it this way:\n",
    "    * If the code for a function is type-stable, most of the decisions regarding types and memory are made at *compile time*, i.e., only the first time that you run it. \n",
    "    * However, if the code is not type-stable, decisions must be made at *run time*, happening every time and thus slowing performance.\n",
    "\n",
    "  For this reason, though it is technically possible to change the type of variables, you shouldn't do it as long as you can avoid it. \n",
    "\n",
    "* Likewise, **Arrays should be initialized belonging to some specific type** (`Int64`, `Float64`,...) that its suited for the subsequent operations and not just `Any`, if this is possible.\n",
    "\n",
    "\n",
    "#### And finally, the most important performance tip\n",
    "\n",
    "*Don't get obsessed about performance*. Not all the code is time-critical and stressing about performance will ruin both your code and your programming experience. 95% of the time you should chill: Julia has your back covered 😉.\n",
    "\n",
    "For finally relaxing, let's generate a family of duckling just chilling in their periodic grid:"
   ]
  },
  {
   "cell_type": "code",
   "execution_count": null,
   "metadata": {},
   "outputs": [],
   "source": [
    "A = Array(CSV.read(\"game_examples/final.csv\"));\n",
    "\n",
    "anim = @animate for i in 1:44\n",
    "    plot_it(A)\n",
    "    A .= my_game_it(A)\n",
    "end\n",
    "gif(anim,fps = 2)\n"
   ]
  },
  {
   "cell_type": "code",
   "execution_count": null,
   "metadata": {},
   "outputs": [],
   "source": []
  }
 ],
 "metadata": {
  "kernelspec": {
   "display_name": "Julia 1.3.1",
   "language": "julia",
   "name": "julia-1.3"
  },
  "language_info": {
   "file_extension": ".jl",
   "mimetype": "application/julia",
   "name": "julia",
   "version": "1.3.1"
  }
 },
 "nbformat": 4,
 "nbformat_minor": 2
}
