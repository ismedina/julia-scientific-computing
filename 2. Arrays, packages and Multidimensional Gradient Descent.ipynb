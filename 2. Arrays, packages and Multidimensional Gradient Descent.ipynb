{
 "cells": [
  {
   "cell_type": "markdown",
   "metadata": {},
   "source": [
    "# 2.1 Arrays\n",
    "\n",
    "Great, so we already have a gradient descent for 1D functions. The next step is to extend it to functions of more than one variable; for example consider the function\n",
    "\n",
    "$$ f(x,y) = x^2 + 2y^2 $$\n",
    "\n",
    "It is obvious that with the current implementation we could not minimize it. For addressing this, we have to introduce *arrays*.\n",
    "\n",
    "Arrays are pretty similar to those in Matlab. Let's start by defining a vector:"
   ]
  },
  {
   "cell_type": "code",
   "execution_count": null,
   "metadata": {},
   "outputs": [],
   "source": [
    "# Define a vector\n",
    "v = [1, 2, 3, 4]"
   ]
  },
  {
   "cell_type": "markdown",
   "metadata": {},
   "source": [
    "In `Array{Int64,1}`, as you may probably guess, `Int64` tells the type of the elements of the array, while `1` is the number of dimensions. Julia is *column-mayor*, i.e. arrays are stored by columns in memory, so vectors are *column-vectors*. On the other hand, if we define a row vector, we obtain already a 2 dimensional array:"
   ]
  },
  {
   "cell_type": "code",
   "execution_count": null,
   "metadata": {},
   "outputs": [],
   "source": [
    "v = [1 2 3 4]"
   ]
  },
  {
   "cell_type": "code",
   "execution_count": null,
   "metadata": {},
   "outputs": [],
   "source": [
    "# Define a matrix\n",
    "A = [1 2; 3 4]"
   ]
  },
  {
   "cell_type": "code",
   "execution_count": null,
   "metadata": {},
   "outputs": [],
   "source": [
    "# or equivalently\n",
    "B = [1 2;\n",
    "     3 4]\n",
    "\n",
    "A == B"
   ]
  },
  {
   "cell_type": "markdown",
   "metadata": {},
   "source": [
    "Accesing elements is pretty straightforward"
   ]
  },
  {
   "cell_type": "code",
   "execution_count": null,
   "metadata": {},
   "outputs": [],
   "source": [
    "println(v[1])\n",
    "println(A[1, 2])\n",
    "println(A[end, end])"
   ]
  },
  {
   "cell_type": "markdown",
   "metadata": {},
   "source": [
    "Julia sees one- and two-dimensional arrays as vectors and matrices, so their multiplication is the matrix multiplication. For pointwise operation one must use `.*`:"
   ]
  },
  {
   "cell_type": "code",
   "execution_count": null,
   "metadata": {},
   "outputs": [],
   "source": [
    "A * [1,1]"
   ]
  },
  {
   "cell_type": "code",
   "execution_count": null,
   "metadata": {},
   "outputs": [],
   "source": [
    "A .* A"
   ]
  },
  {
   "cell_type": "markdown",
   "metadata": {},
   "source": [
    "This *a point implies elementwise operation* concept extends to all functions, even user defined! This is extremely useful:"
   ]
  },
  {
   "cell_type": "code",
   "execution_count": null,
   "metadata": {},
   "outputs": [],
   "source": [
    "g(x) = x^2 + 1\n",
    "g.(A) "
   ]
  },
  {
   "cell_type": "code",
   "execution_count": null,
   "metadata": {},
   "outputs": [],
   "source": [
    "sqrt.(A)"
   ]
  },
  {
   "cell_type": "markdown",
   "metadata": {},
   "source": [
    "In this last example, note that how Julia has changed the *type* of the Array from `Int64` to `Float64`. It is usually convenient to define the type of your arrays from the beginning; thus we can do:"
   ]
  },
  {
   "cell_type": "code",
   "execution_count": null,
   "metadata": {},
   "outputs": [],
   "source": [
    "A = [1. 2; 3 4] # the point after the one indicates that its type is float, forcing the rest ot types"
   ]
  },
  {
   "cell_type": "markdown",
   "metadata": {},
   "source": [
    "Of course there are also methods for defining arrays of zeros, ones, uninitialized arrays..."
   ]
  },
  {
   "cell_type": "code",
   "execution_count": null,
   "metadata": {},
   "outputs": [],
   "source": [
    "zeros(Float64, 2, 2), ones(Float64, 2, 2), Array{Float64, 2}(undef, 2, 2)"
   ]
  },
  {
   "cell_type": "markdown",
   "metadata": {},
   "source": [
    "Arrays can also be created via *comprehension*: check the folowing:"
   ]
  },
  {
   "cell_type": "code",
   "execution_count": null,
   "metadata": {},
   "outputs": [],
   "source": [
    "a = [g(i) for i in 1:4]"
   ]
  },
  {
   "cell_type": "markdown",
   "metadata": {},
   "source": [
    "This also works for nested loops! In the following example, check which loops correspond to rows and which to columns:"
   ]
  },
  {
   "cell_type": "code",
   "execution_count": null,
   "metadata": {},
   "outputs": [],
   "source": [
    "h(x,y) = x-y\n",
    "x = 0:2:10\n",
    "y = x\n",
    "Z = [h(xi,yj) for xi in x, yj in y]"
   ]
  },
  {
   "cell_type": "markdown",
   "metadata": {},
   "source": [
    "This is also the Julian way of computing the output of a 2D-valued function when you want to do a contour/surface plot; while in Python you would do something like:\n",
    "\n",
    "```python\n",
    "x = np.linspace(0,10,6)\n",
    "X, Y = np.meshgrid(x,x)\n",
    "Z = h(X,Y)\n",
    "```\n",
    "\n",
    "In Julia you just don't create those (potentially big) `X` and `Y`, but just compute `Z` directly, like in the example above."
   ]
  },
  {
   "cell_type": "markdown",
   "metadata": {},
   "source": [
    "## 2.1.1 Important differences with respect to Matlab\n",
    "\n",
    "There are of course plenty of differences between Julia and Matlab, but since arrays are so vital in every scientific computing code, we may well state here some of the most important:\n",
    "\n",
    "* Julia does not automatically grow arrays in an assignment statement, i. e., if we have a vector `a` of length 4 we cannot expand it by doing `a[5] = 1`; we would need to write `a = [a; 1]`.\n",
    "* Maybe the most important of all: Julia arrays are **not** copied when assigned to another variable. After `a = b`, changing elements of `b` will modify `a` as well:"
   ]
  },
  {
   "cell_type": "code",
   "execution_count": null,
   "metadata": {},
   "outputs": [],
   "source": [
    "a = [1,2,3]\n",
    "b = a\n",
    "a[1] = 0\n",
    "b"
   ]
  },
  {
   "cell_type": "markdown",
   "metadata": {},
   "source": [
    "An extensive list can be found here: https://docs.julialang.org/en/v1/manual/noteworthy-differences/#Noteworthy-differences-from-MATLAB-1\n",
    "\n",
    "## 2.1.2 Important differences with respect to Python\n",
    "\n",
    "Some other differences with respect to Python are:\n",
    "\n",
    "* Julia has 1-based indexing, instead of 0-based indexing as in Python.\n",
    "* Julia's slice indexing includes the last element, unlike in Python. `a[2:3]` in Julia is `a[1:3]` in Python"
   ]
  },
  {
   "cell_type": "code",
   "execution_count": null,
   "metadata": {},
   "outputs": [],
   "source": [
    "a = [1, 2, 3]\n",
    "a[2:3] # this would be like 1:3 in Python"
   ]
  },
  {
   "cell_type": "markdown",
   "metadata": {},
   "source": [
    "An extensive set of differences can be found at https://docs.julialang.org/en/v1/manual/noteworthy-differences/#Noteworthy-differences-from-Python-1"
   ]
  },
  {
   "cell_type": "markdown",
   "metadata": {},
   "source": [
    "## 2.1.3 Arrays as lists and concatenation"
   ]
  },
  {
   "cell_type": "markdown",
   "metadata": {},
   "source": [
    "Thinking back about our gradient descent, apart from extending it to multidimensional functions, it would also be nice to have a history of the iterations. For this we need some kind of list to store them in. \n",
    "\n",
    "If you come from Python it may surprise you to know there are no lists in Julia. Instead, list operations are done using arrays. For example, pushing an element to the end of an array can be done as:"
   ]
  },
  {
   "cell_type": "code",
   "execution_count": null,
   "metadata": {},
   "outputs": [],
   "source": [
    "c = [5, 1]\n",
    "push!(c, 3)\n",
    "c"
   ]
  },
  {
   "cell_type": "markdown",
   "metadata": {},
   "source": [
    "You may have noticed that `!` at the end of `push!`. In Julia there is the convention of naming the functions that modify its arguments ending with a `!`. Thus, we have two `sort`s: the first doesn't change the array `C` itself:"
   ]
  },
  {
   "cell_type": "code",
   "execution_count": null,
   "metadata": {},
   "outputs": [],
   "source": [
    "sort(c), c"
   ]
  },
  {
   "cell_type": "markdown",
   "metadata": {},
   "source": [
    "While `sort!` *does* modify it:"
   ]
  },
  {
   "cell_type": "code",
   "execution_count": null,
   "metadata": {},
   "outputs": [],
   "source": [
    "sort!(c), c"
   ]
  },
  {
   "cell_type": "markdown",
   "metadata": {},
   "source": [
    "Anyway, some users will feel conforted to have also the following resources for expanding arrays:"
   ]
  },
  {
   "cell_type": "code",
   "execution_count": null,
   "metadata": {},
   "outputs": [],
   "source": [
    "c = [c;2]"
   ]
  },
  {
   "cell_type": "code",
   "execution_count": null,
   "metadata": {},
   "outputs": [],
   "source": [
    "D = [1 2]; D = [D 3]"
   ]
  },
  {
   "cell_type": "markdown",
   "metadata": {},
   "source": [
    "Note that we use a semicolon to concatenate vertically and a space to concatenate horizontally. Using a comma instead returns an array of type `Any` containing the given elements:"
   ]
  },
  {
   "cell_type": "code",
   "execution_count": null,
   "metadata": {},
   "outputs": [],
   "source": [
    "D = [1 2]; D = [D, 3]"
   ]
  },
  {
   "cell_type": "markdown",
   "metadata": {},
   "source": [
    "# 2.2 Packages\n",
    "\n",
    "As you may remember, our stopping criterion in `gradient_descent` involved checking `abs(Df(x))`. Since now `Df(x)` will be an array, we need a way to compute its norm. We could of course code it ourselves, but Julia comes with a rich library environment that has a lot of this work already done. \n",
    "\n",
    "In particular, the function `norm` comes in the package `LinearAlgebra.jl`. If you are running this notebook in Binder the package is already installed; if not you can install it by uncommenting and running the following cell:"
   ]
  },
  {
   "cell_type": "code",
   "execution_count": null,
   "metadata": {},
   "outputs": [],
   "source": [
    "# using Pkg\n",
    "# Pkg.add(\"LinearAlgebra\")"
   ]
  },
  {
   "cell_type": "code",
   "execution_count": null,
   "metadata": {},
   "outputs": [],
   "source": [
    "using LinearAlgebra # since we only need the function `norm` we could also do `using LinearAlgebra: norm`\n",
    "\n",
    "a = [1, 1]\n",
    "norm(a)"
   ]
  },
  {
   "cell_type": "markdown",
   "metadata": {},
   "source": [
    "Great! We are again prepared for coding. Let us first define the function we want to minimize and its derivate. Let's make it grow faster in the $y$ than in the $x$ direction to check it our algorithm works properly:\n",
    "\n",
    "![surface plot](surface_plot.png)"
   ]
  },
  {
   "cell_type": "code",
   "execution_count": null,
   "metadata": {},
   "outputs": [],
   "source": [
    "g(x) = x[1]^2 + 2*x[2]^2\n",
    "Dg(x) = 2*[x[1], 2*x[2]]"
   ]
  },
  {
   "cell_type": "markdown",
   "metadata": {},
   "source": [
    "#### Exercise 2\n",
    "\n",
    "Build the function $g(x) = x_1^2 + 2x_2^2$ and its gradient using only matrix and scalar-matrix operations (Hint: the transpose of the vector `x` is `x'`)."
   ]
  },
  {
   "cell_type": "code",
   "execution_count": null,
   "metadata": {},
   "outputs": [],
   "source": [
    "# Your solution goes here"
   ]
  },
  {
   "cell_type": "markdown",
   "metadata": {},
   "source": [
    "#### Exercise 3\n",
    "Bring the gradient descent of the first notebook into the multidimensional realm, and make it output the _history_ of `x`s and `f(x)`s (Hint: consider using the concatenate functions that were explained above.)"
   ]
  },
  {
   "cell_type": "code",
   "execution_count": null,
   "metadata": {},
   "outputs": [],
   "source": [
    "\"\"\" Gradient descent for multidimensional functions Stops when the gradient is smaller than `TOL`, \n",
    "    or when the maximum number of iterations `maxiter` has been reached\"\"\"\n",
    "function gradient_descent(f, Df, x; α = 0.1, TOL = 1e-10, maxiter = 1000, verbose = false)\n",
    "    xn = [x...]\n",
    "    fn = [f(x)]\n",
    "    \n",
    "    # Your code goes here\n",
    "    \n",
    "    return(xn, fn)\n",
    "end"
   ]
  },
  {
   "cell_type": "code",
   "execution_count": null,
   "metadata": {},
   "outputs": [],
   "source": [
    "# Let's test it\n",
    "xn, fn = gradient_descent(g, Dg, [1., 1], α = 0.01, verbose = true); # We can add a semicolon to mute the output"
   ]
  },
  {
   "cell_type": "markdown",
   "metadata": {},
   "source": [
    "Well, enough of sawing raw data. In the next notebook we will learn how to visualize it!"
   ]
  },
  {
   "cell_type": "code",
   "execution_count": null,
   "metadata": {},
   "outputs": [],
   "source": []
  }
 ],
 "metadata": {
  "kernelspec": {
   "display_name": "Julia 1.3.1",
   "language": "julia",
   "name": "julia-1.3"
  },
  "language_info": {
   "file_extension": ".jl",
   "mimetype": "application/julia",
   "name": "julia",
   "version": "1.3.1"
  }
 },
 "nbformat": 4,
 "nbformat_minor": 2
}
